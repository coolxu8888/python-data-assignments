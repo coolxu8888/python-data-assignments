{
 "cells": [
  {
   "cell_type": "code",
   "execution_count": 156,
   "metadata": {},
   "outputs": [],
   "source": [
    "\n",
    "import requests\n",
    "from bs4 import BeautifulSoup\n",
    "import csv\n",
    "\n",
    "def scrape_onepage(purl):\n",
    "    r = requests.get(purl).text\n",
    "    data = BeautifulSoup(r,\"html.parser\")\n",
    "    all_div = data.find('div',attrs={'class':\"wrapper fixed\"}).find_all(\"li\")\n",
    "    tittles=[]\n",
    "    for i in all_div:\n",
    "        tittle=[]\n",
    "        tittle.append(i.find('div', attrs={'class':\"t\"}).find('strong').text.strip())\n",
    "        tittle.append(i.find('div', attrs={'class':\"w\"}).text.strip())\n",
    "        tittle.append(i.find('div', attrs={'class':\"t\"}).find('a')['href'])\n",
    "        tittles.append(tittle)\n",
    "    return tittles\n",
    "def scrape_all_pages(url):\n",
    "    page_urls=[]\n",
    "    comments=[]\n",
    "    for i in range(1,11):  \n",
    "        if i == 1:\n",
    "            url = 'http://www.chinabuildingcentre.com/list-41-1.html'\n",
    "        else:\n",
    "            url = 'http://www.chinabuildingcentre.com/list-41-{}.html'.format(i)\n",
    "        page_urls.append(url)\n",
    "    for purl in page_urls:\n",
    "        comments.extend(scrape_onepage(purl))\n",
    "    return(comments)\n",
    "result = scrape_all_pages('http://www.chinabuildingcentre.com/list-41-1.html')\n",
    "\n",
    "\n",
    "with open('cbc.csv','a',encoding='utf-8') as f:\n",
    "\n",
    "    writer = csv.writer(f)\n",
    "    header = ['titles','comment','url']\n",
    "    writer.writerow(header)\n",
    "    writer.writerows(result)"
   ]
  },
  {
   "cell_type": "code",
   "execution_count": 132,
   "metadata": {},
   "outputs": [],
   "source": []
  },
  {
   "cell_type": "code",
   "execution_count": null,
   "metadata": {},
   "outputs": [],
   "source": []
  },
  {
   "cell_type": "code",
   "execution_count": 54,
   "metadata": {},
   "outputs": [],
   "source": []
  },
  {
   "cell_type": "code",
   "execution_count": null,
   "metadata": {},
   "outputs": [],
   "source": []
  },
  {
   "cell_type": "code",
   "execution_count": 58,
   "metadata": {
    "scrolled": true
   },
   "outputs": [
    {
     "name": "stdout",
     "output_type": "stream",
     "text": [
      "https://www.indeed.com/jobs?q=Data+Journalism+Internship&start=190\n"
     ]
    }
   ],
   "source": []
  },
  {
   "cell_type": "code",
   "execution_count": null,
   "metadata": {},
   "outputs": [],
   "source": []
  }
 ],
 "metadata": {
  "kernelspec": {
   "display_name": "Python 3",
   "language": "python",
   "name": "python3"
  },
  "language_info": {
   "codemirror_mode": {
    "name": "ipython",
    "version": 3
   },
   "file_extension": ".py",
   "mimetype": "text/x-python",
   "name": "python",
   "nbconvert_exporter": "python",
   "pygments_lexer": "ipython3",
   "version": "3.7.0"
  }
 },
 "nbformat": 4,
 "nbformat_minor": 2
}
